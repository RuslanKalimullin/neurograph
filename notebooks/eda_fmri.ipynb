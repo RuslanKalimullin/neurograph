{
 "cells": [
  {
   "cell_type": "markdown",
   "id": "01ec81c4",
   "metadata": {},
   "source": [
    "# "
   ]
  },
  {
   "cell_type": "markdown",
   "id": "4920426f-541f-4212-96e1-a50b945a8d06",
   "metadata": {},
   "source": [
    "## imports"
   ]
  },
  {
   "cell_type": "code",
   "execution_count": 1,
   "id": "0907f92a",
   "metadata": {},
   "outputs": [],
   "source": [
    "%load_ext autoreload\n",
    "%autoreload 3"
   ]
  },
  {
   "cell_type": "code",
   "execution_count": 2,
   "id": "d38bf3c5",
   "metadata": {},
   "outputs": [
    {
     "name": "stderr",
     "output_type": "stream",
     "text": [
      "/home/gl/miniconda3/envs/neurograph/lib/python3.10/site-packages/tqdm/auto.py:22: TqdmWarning: IProgress not found. Please update jupyter and ipywidgets. See https://ipywidgets.readthedocs.io/en/stable/user_install.html\n",
      "  from .autonotebook import tqdm as notebook_tqdm\n"
     ]
    }
   ],
   "source": [
    "import BrainGB\n",
    "import BrainGB.models as bgb_models\n",
    "import torch_geometric as pyg"
   ]
  },
  {
   "cell_type": "code",
   "execution_count": 128,
   "id": "2e12c2b3",
   "metadata": {},
   "outputs": [],
   "source": [
    "import argparse\n",
    "import logging\n",
    "from typing import Optional\n",
    "\n",
    "import pdb\n",
    "import inspect\n",
    "from collections import defaultdict\n",
    "from random import choice\n",
    "from functools import wraps\n",
    "\n",
    "from pathlib import Path\n",
    "import pandas as pd\n",
    "import numpy as np\n",
    "from sklearn.model_selection import train_test_split, KFold, StratifiedKFold\n",
    "from sklearn import metrics\n",
    "\n",
    "import torch\n",
    "import torch.nn as nn\n",
    "import torch.nn.functional as F\n",
    "import torch_geometric as pyg\n",
    "import torch_geometric.nn as gnn\n",
    "from torch_geometric.data import Data, InMemoryDataset\n",
    "from torch_geometric.loader import DataLoader\n",
    "\n",
    "import networkx as nx\n",
    "\n",
    "#import neurograph as ng\n",
    "import neurograph.config as cfg"
   ]
  },
  {
   "cell_type": "code",
   "execution_count": 163,
   "id": "b2460175-af12-4216-a543-df75332d0b5c",
   "metadata": {},
   "outputs": [
    {
     "name": "stderr",
     "output_type": "stream",
     "text": [
      "DEBUG:root:test\n"
     ]
    }
   ],
   "source": [
    "logger = logging.getLogger()\n",
    "logger.setLevel(logging.DEBUG)\n",
    "logging.debug(\"test\")"
   ]
  },
  {
   "cell_type": "code",
   "execution_count": 4,
   "id": "4842f42c-af06-4f12-81e1-44fc5b4b62fd",
   "metadata": {},
   "outputs": [
    {
     "data": {
      "text/plain": [
       "'2.0.3'"
      ]
     },
     "execution_count": 4,
     "metadata": {},
     "output_type": "execute_result"
    }
   ],
   "source": [
    "pyg.__version__"
   ]
  },
  {
   "cell_type": "code",
   "execution_count": 5,
   "id": "525ecdd7-c7a7-4ed0-9d3f-4293f48bbe08",
   "metadata": {},
   "outputs": [],
   "source": [
    "pyg.seed_everything(1380)"
   ]
  },
  {
   "cell_type": "markdown",
   "id": "e7242e2d-defe-4cef-aa4a-d98688d2d655",
   "metadata": {},
   "source": [
    "----"
   ]
  },
  {
   "cell_type": "markdown",
   "id": "39a41765-7374-4b3f-995f-75da88356c6b",
   "metadata": {},
   "source": [
    "## look at files"
   ]
  },
  {
   "cell_type": "code",
   "execution_count": 6,
   "id": "98291afd",
   "metadata": {},
   "outputs": [
    {
     "name": "stdout",
     "output_type": "stream",
     "text": [
      "fmri\n"
     ]
    }
   ],
   "source": [
    "!ls {cfg.DATA_PATH}"
   ]
  },
  {
   "cell_type": "code",
   "execution_count": 7,
   "id": "f8f71be5",
   "metadata": {},
   "outputs": [],
   "source": [
    "fmri_path = cfg.DATA_PATH / 'fmri'"
   ]
  },
  {
   "cell_type": "code",
   "execution_count": 8,
   "id": "9a51c3d0",
   "metadata": {},
   "outputs": [
    {
     "name": "stdout",
     "output_type": "stream",
     "text": [
      "alexeev  cobre\n"
     ]
    }
   ],
   "source": [
    "!ls {fmri_path}"
   ]
  },
  {
   "cell_type": "code",
   "execution_count": 9,
   "id": "4c173a32",
   "metadata": {},
   "outputs": [],
   "source": [
    "cobre_path = fmri_path / 'cobre'"
   ]
  },
  {
   "cell_type": "code",
   "execution_count": 10,
   "id": "dcfe2ff0",
   "metadata": {},
   "outputs": [
    {
     "name": "stdout",
     "output_type": "stream",
     "text": [
      "cobre_aal_processed  cobre_cm_aal\t\t  cobre_labels.csv\n",
      "cobre_cm_39\t     cobre_func_connectivity.csv\n"
     ]
    }
   ],
   "source": [
    "!ls {cobre_path}"
   ]
  },
  {
   "cell_type": "code",
   "execution_count": 11,
   "id": "3c2ffa1c",
   "metadata": {},
   "outputs": [],
   "source": [
    "cobre_aal_path = cobre_path / 'cobre_cm_aal'"
   ]
  },
  {
   "cell_type": "code",
   "execution_count": 12,
   "id": "bab4506a",
   "metadata": {},
   "outputs": [
    {
     "data": {
      "text/plain": [
       "PosixPath('/home/gl/skoltech/imaging/data/fmri/cobre/cobre_cm_aal')"
      ]
     },
     "execution_count": 12,
     "metadata": {},
     "output_type": "execute_result"
    }
   ],
   "source": [
    "cobre_aal_path"
   ]
  },
  {
   "cell_type": "markdown",
   "id": "8fd25324",
   "metadata": {},
   "source": [
    "## global csv files"
   ]
  },
  {
   "cell_type": "code",
   "execution_count": 13,
   "id": "40a46882",
   "metadata": {},
   "outputs": [],
   "source": [
    "cobre_target = pd.read_csv(cobre_path / 'cobre_labels.csv')"
   ]
  },
  {
   "cell_type": "code",
   "execution_count": 14,
   "id": "e740025c",
   "metadata": {},
   "outputs": [],
   "source": [
    "cobre_target = cobre_target[['ID', 'target']].copy()"
   ]
  },
  {
   "cell_type": "code",
   "execution_count": 15,
   "id": "7dae9b2a-6149-496a-b421-1fa98088dfa3",
   "metadata": {},
   "outputs": [
    {
     "data": {
      "text/plain": [
       "1"
      ]
     },
     "execution_count": 15,
     "metadata": {},
     "output_type": "execute_result"
    }
   ],
   "source": [
    "# check that there are no different labels assigned to the same ID\n",
    "cobre_target.groupby('ID').target.nunique().max()"
   ]
  },
  {
   "cell_type": "code",
   "execution_count": 16,
   "id": "72965eb0-6121-4233-9009-4deeda4fb05a",
   "metadata": {},
   "outputs": [],
   "source": [
    "cobre_target.drop_duplicates(inplace=True)"
   ]
  },
  {
   "cell_type": "code",
   "execution_count": 17,
   "id": "82e195fe-d9df-4080-867a-ffa4da4c0c22",
   "metadata": {},
   "outputs": [
    {
     "data": {
      "text/plain": [
       "(154, 2)"
      ]
     },
     "execution_count": 17,
     "metadata": {},
     "output_type": "execute_result"
    }
   ],
   "source": [
    "cobre_target.shape"
   ]
  },
  {
   "cell_type": "code",
   "execution_count": 18,
   "id": "7cabb24a-16ea-4762-a531-83dbc3fedce0",
   "metadata": {},
   "outputs": [],
   "source": [
    "cobre_target.set_index('ID', inplace=True)"
   ]
  },
  {
   "cell_type": "code",
   "execution_count": 19,
   "id": "fcaee741-4978-4e14-addb-bb0eb8fecaca",
   "metadata": {},
   "outputs": [
    {
     "data": {
      "text/html": [
       "<div>\n",
       "<style scoped>\n",
       "    .dataframe tbody tr th:only-of-type {\n",
       "        vertical-align: middle;\n",
       "    }\n",
       "\n",
       "    .dataframe tbody tr th {\n",
       "        vertical-align: top;\n",
       "    }\n",
       "\n",
       "    .dataframe thead th {\n",
       "        text-align: right;\n",
       "    }\n",
       "</style>\n",
       "<table border=\"1\" class=\"dataframe\">\n",
       "  <thead>\n",
       "    <tr style=\"text-align: right;\">\n",
       "      <th></th>\n",
       "      <th>target</th>\n",
       "    </tr>\n",
       "    <tr>\n",
       "      <th>ID</th>\n",
       "      <th></th>\n",
       "    </tr>\n",
       "  </thead>\n",
       "  <tbody>\n",
       "    <tr>\n",
       "      <th>A00007409</th>\n",
       "      <td>No_Known_Disorder</td>\n",
       "    </tr>\n",
       "    <tr>\n",
       "      <th>A00031597</th>\n",
       "      <td>Schizophrenia_Strict</td>\n",
       "    </tr>\n",
       "    <tr>\n",
       "      <th>A00022500</th>\n",
       "      <td>Schizophrenia_Strict</td>\n",
       "    </tr>\n",
       "  </tbody>\n",
       "</table>\n",
       "</div>"
      ],
      "text/plain": [
       "                         target\n",
       "ID                             \n",
       "A00007409     No_Known_Disorder\n",
       "A00031597  Schizophrenia_Strict\n",
       "A00022500  Schizophrenia_Strict"
      ]
     },
     "execution_count": 19,
     "metadata": {},
     "output_type": "execute_result"
    }
   ],
   "source": [
    "cobre_target.head(3)"
   ]
  },
  {
   "cell_type": "code",
   "execution_count": 20,
   "id": "1892ea15-8572-46f7-a6f8-53a1a65ebef4",
   "metadata": {},
   "outputs": [
    {
     "data": {
      "text/plain": [
       "array(['No_Known_Disorder', 'Schizophrenia_Strict', 'Schizoaffective'],\n",
       "      dtype=object)"
      ]
     },
     "execution_count": 20,
     "metadata": {},
     "output_type": "execute_result"
    }
   ],
   "source": [
    "cobre_target.target.unique()"
   ]
  },
  {
   "cell_type": "code",
   "execution_count": 21,
   "id": "5ae78472-1c40-458a-baac-f5f102cd6e42",
   "metadata": {},
   "outputs": [
    {
     "data": {
      "text/plain": [
       "No_Known_Disorder       77\n",
       "Schizophrenia_Strict    66\n",
       "Schizoaffective         11\n",
       "Name: target, dtype: int64"
      ]
     },
     "execution_count": 21,
     "metadata": {},
     "output_type": "execute_result"
    }
   ],
   "source": [
    "cobre_target.target.value_counts()"
   ]
  },
  {
   "cell_type": "markdown",
   "id": "15f9a656-5962-44db-b617-16588a69b278",
   "metadata": {},
   "source": [
    "### drop schizoaffective"
   ]
  },
  {
   "cell_type": "code",
   "execution_count": 22,
   "id": "2f8d572e-f52b-40ba-82e2-02108b945958",
   "metadata": {},
   "outputs": [],
   "source": [
    "cobre_target = cobre_target[cobre_target.target != 'Schizoaffective'].copy()"
   ]
  },
  {
   "cell_type": "markdown",
   "id": "5bb938d3",
   "metadata": {},
   "source": [
    "### label encoding for cobre "
   ]
  },
  {
   "cell_type": "code",
   "execution_count": 23,
   "id": "9d125df0",
   "metadata": {},
   "outputs": [],
   "source": [
    "target_label2id = {i: x for i, x in enumerate(cobre_target.target.unique())}\n",
    "target_id2label = {x: i for i,x in target_label2id.items()}"
   ]
  },
  {
   "cell_type": "code",
   "execution_count": 24,
   "id": "b439a8ff",
   "metadata": {},
   "outputs": [
    {
     "data": {
      "text/plain": [
       "{0: 'No_Known_Disorder', 1: 'Schizophrenia_Strict'}"
      ]
     },
     "execution_count": 24,
     "metadata": {},
     "output_type": "execute_result"
    }
   ],
   "source": [
    "target_label2id"
   ]
  },
  {
   "cell_type": "code",
   "execution_count": 25,
   "id": "e0ea1e6c",
   "metadata": {},
   "outputs": [],
   "source": [
    "cobre_target.target = cobre_target.target.map(target_id2label)"
   ]
  },
  {
   "cell_type": "code",
   "execution_count": 26,
   "id": "44558861-582f-409d-9f83-3890e9f911eb",
   "metadata": {},
   "outputs": [
    {
     "data": {
      "text/plain": [
       "0    77\n",
       "1    66\n",
       "Name: target, dtype: int64"
      ]
     },
     "execution_count": 26,
     "metadata": {},
     "output_type": "execute_result"
    }
   ],
   "source": [
    "cobre_target.target.value_counts()"
   ]
  },
  {
   "cell_type": "markdown",
   "id": "1423472b",
   "metadata": {
    "tags": []
   },
   "source": [
    "## load conn matrices"
   ]
  },
  {
   "cell_type": "code",
   "execution_count": 27,
   "id": "9dc9f723",
   "metadata": {},
   "outputs": [
    {
     "name": "stdout",
     "output_type": "stream",
     "text": [
      "326\n"
     ]
    }
   ],
   "source": [
    "!ls {cobre_aal_path} | wc -l"
   ]
  },
  {
   "cell_type": "code",
   "execution_count": 29,
   "id": "b24d14fc-9b0e-4c39-b7ae-762374fff051",
   "metadata": {},
   "outputs": [
    {
     "data": {
      "text/plain": [
       "163"
      ]
     },
     "execution_count": 29,
     "metadata": {},
     "output_type": "execute_result"
    }
   ],
   "source": [
    "326 // 2"
   ]
  },
  {
   "cell_type": "code",
   "execution_count": 30,
   "id": "a661f829",
   "metadata": {},
   "outputs": [],
   "source": [
    "def load_matrices(path, dataset_name='cobre'):\n",
    "    data = {}\n",
    "    embed = {}\n",
    "    # brain regi\n",
    "    regions = None\n",
    "    \n",
    "    for p in path.glob('*.csv'):\n",
    "        \n",
    "        name = p.stem.split('_')[0]\n",
    "        \n",
    "        if dataset_name == 'cobre':\n",
    "            name = name.replace('sub-', '')\n",
    "        \n",
    "        x = pd.read_csv(p).drop('Unnamed: 0', axis=1)\n",
    "        \n",
    "        values = x.values.astype(np.float32)\n",
    "        if p.stem.endswith('_embed'):\n",
    "            embed[name] = values\n",
    "        else:\n",
    "            data[name] = values\n",
    "            if regions is None:\n",
    "                regions = {i: c for i, c in enumerate(x.columns)}\n",
    "        \n",
    "    return data, embed, regions"
   ]
  },
  {
   "cell_type": "code",
   "execution_count": 31,
   "id": "64ce6f3e",
   "metadata": {},
   "outputs": [],
   "source": [
    "cobre_conn, cobre_embed, cobre_regions = load_matrices(cobre_aal_path)"
   ]
  },
  {
   "cell_type": "code",
   "execution_count": 32,
   "id": "20e174c5",
   "metadata": {},
   "outputs": [
    {
     "data": {
      "text/plain": [
       "163"
      ]
     },
     "execution_count": 32,
     "metadata": {},
     "output_type": "execute_result"
    }
   ],
   "source": [
    "len(cobre_conn.keys())"
   ]
  },
  {
   "cell_type": "code",
   "execution_count": 33,
   "id": "7ed0104b",
   "metadata": {},
   "outputs": [
    {
     "data": {
      "text/plain": [
       "True"
      ]
     },
     "execution_count": 33,
     "metadata": {},
     "output_type": "execute_result"
    }
   ],
   "source": [
    "cobre_conn.keys() == cobre_embed.keys()"
   ]
  },
  {
   "cell_type": "code",
   "execution_count": 34,
   "id": "1a4a5443-f263-41ec-8f2f-ee7e5f0d2a7a",
   "metadata": {},
   "outputs": [
    {
     "data": {
      "text/plain": [
       "(143, 1)"
      ]
     },
     "execution_count": 34,
     "metadata": {},
     "output_type": "execute_result"
    }
   ],
   "source": [
    "cobre_target.shape"
   ]
  },
  {
   "cell_type": "code",
   "execution_count": 35,
   "id": "1458e096-5a1d-4946-a588-0f95f99073b2",
   "metadata": {},
   "outputs": [
    {
     "data": {
      "text/plain": [
       "143"
      ]
     },
     "execution_count": 35,
     "metadata": {},
     "output_type": "execute_result"
    }
   ],
   "source": [
    "cobre_target.index.nunique()"
   ]
  },
  {
   "cell_type": "markdown",
   "id": "b3b8c73f",
   "metadata": {
    "jp-MarkdownHeadingCollapsed": true,
    "tags": []
   },
   "source": [
    "## take a look a few examples from both datasets"
   ]
  },
  {
   "cell_type": "code",
   "execution_count": 23,
   "id": "eeec9558",
   "metadata": {},
   "outputs": [],
   "source": [
    "c = choice(list(cobre_conn.keys()))"
   ]
  },
  {
   "cell_type": "code",
   "execution_count": 24,
   "id": "10ba324a",
   "metadata": {},
   "outputs": [
    {
     "data": {
      "text/plain": [
       "163"
      ]
     },
     "execution_count": 24,
     "metadata": {},
     "output_type": "execute_result"
    }
   ],
   "source": [
    "len(set(cobre_conn.keys()))"
   ]
  },
  {
   "cell_type": "code",
   "execution_count": 25,
   "id": "0f52dd6f",
   "metadata": {},
   "outputs": [
    {
     "data": {
      "text/plain": [
       "'A00028052'"
      ]
     },
     "execution_count": 25,
     "metadata": {},
     "output_type": "execute_result"
    }
   ],
   "source": [
    "c"
   ]
  },
  {
   "cell_type": "code",
   "execution_count": 26,
   "id": "74cc202b",
   "metadata": {},
   "outputs": [
    {
     "data": {
      "text/plain": [
       "154"
      ]
     },
     "execution_count": 26,
     "metadata": {},
     "output_type": "execute_result"
    }
   ],
   "source": [
    "cobre_target.index.nunique()"
   ]
  },
  {
   "cell_type": "code",
   "execution_count": 27,
   "id": "d765858b",
   "metadata": {},
   "outputs": [],
   "source": [
    "cm = cobre_conn[c]\n",
    "ce = cobre_embed[c]\n",
    "_y = cobre_target.loc[c].values"
   ]
  },
  {
   "cell_type": "code",
   "execution_count": 28,
   "id": "edb56bd9",
   "metadata": {},
   "outputs": [],
   "source": [
    "# for k in cobre_conn:\n",
    "#     assert (cobre_conn[k].columns == cobre_embed[k].columns).all()"
   ]
  },
  {
   "cell_type": "code",
   "execution_count": 29,
   "id": "27df5a51",
   "metadata": {},
   "outputs": [
    {
     "data": {
      "text/plain": [
       "(150, 116)"
      ]
     },
     "execution_count": 29,
     "metadata": {},
     "output_type": "execute_result"
    }
   ],
   "source": [
    "ce.shape"
   ]
  },
  {
   "cell_type": "markdown",
   "id": "bc4cf05b",
   "metadata": {
    "tags": []
   },
   "source": [
    "## Get PyG.Data from conn matrices"
   ]
  },
  {
   "cell_type": "code",
   "execution_count": 36,
   "id": "3f056730",
   "metadata": {},
   "outputs": [],
   "source": [
    "def one_hot_embed(n: int):\n",
    "    return torch.eye(n)"
   ]
  },
  {
   "cell_type": "code",
   "execution_count": 37,
   "id": "18ac476a",
   "metadata": {},
   "outputs": [],
   "source": [
    "def square_check(f):\n",
    "    # decotated function must take a np.ndarray as the first argument\n",
    "    \n",
    "    @wraps(f)\n",
    "    def wrapper(*args, **kwargs):\n",
    "        m = args[0]\n",
    "        assert isinstance(m, np.ndarray), 'input matrix must be np.ndarray!'\n",
    "        assert m.ndim == 2, 'input matrix must be 2d array!'\n",
    "        assert m.shape[0] == cm.shape[1], 'input matrix must be square!'\n",
    "        \n",
    "        return f(*args, **kwargs)\n",
    "\n",
    "    return wrapper"
   ]
  },
  {
   "cell_type": "code",
   "execution_count": 38,
   "id": "882a8785",
   "metadata": {},
   "outputs": [],
   "source": [
    "@square_check\n",
    "def find_thr(\n",
    "    cm: np.ndarray,\n",
    "    k=5,\n",
    "):\n",
    "    assert cm.ndim == 2, 'adj matrix must be 2d array!'\n",
    "    assert cm.shape[0] == cm.shape[1], 'adj matrix must be square!'\n",
    "    \n",
    "    n = cm.shape[0]\n",
    "    abs_cm = np.abs(cm)\n",
    "    \n",
    "    # find thr to get the desired k\n",
    "    # = average number of edges for a node\n",
    "    vals = np.sort(abs_cm.ravel())\n",
    "    thr_idx = min(max(0, n**2 - 2*k*n - 1), n**2 - 1)\n",
    "    thr = vals[thr_idx]\n",
    "    \n",
    "    return thr"
   ]
  },
  {
   "cell_type": "code",
   "execution_count": 39,
   "id": "f0c788a5",
   "metadata": {},
   "outputs": [],
   "source": [
    "@square_check\n",
    "def apply_thr(cm: np.ndarray, thr: float):\n",
    "    abs_cm = np.abs(cm)\n",
    "    idx = np.nonzero(abs_cm > thr)\n",
    "    edge_index = torch.LongTensor(np.stack(idx))\n",
    "    edge_weights = torch.FloatTensor(cm[idx])\n",
    "    \n",
    "    return edge_index, edge_weights"
   ]
  },
  {
   "cell_type": "code",
   "execution_count": 40,
   "id": "73a28f11",
   "metadata": {},
   "outputs": [],
   "source": [
    "@square_check\n",
    "def cm_to_edges(cm: np.ndarray):\n",
    "    \"\"\"\n",
    "    Convert CM to (edge_index, edge_weights) of a fully connected weighted graph\n",
    "    (including self-loops with zero weights)\n",
    "    return: (edge_index, edge_weights)\n",
    "    \"\"\"\n",
    "    cm = torch.FloatTensor(cm)\n",
    "    index = (torch.isnan(cm) == 0).nonzero(as_tuple=True)\n",
    "    edge_attr = torch.abs(cm[index])\n",
    "    \n",
    "    return torch.stack(index, dim=0), edge_attr"
   ]
  },
  {
   "cell_type": "code",
   "execution_count": 66,
   "id": "7a6705d8",
   "metadata": {},
   "outputs": [],
   "source": [
    "@square_check\n",
    "def prepare_pyg_data(\n",
    "    cm: np.ndarray,\n",
    "    subj_id: str,\n",
    "    targets: pd.DataFrame,\n",
    ") -> Data:\n",
    "    \n",
    "    # fully connected graph\n",
    "    # TODO\n",
    "    n = cm.shape[0]\n",
    "    edge_index, edge_attr = cm_to_edges(cm)\n",
    "    \n",
    "    # compute initial node embeddings -> just original weights\n",
    "    x = torch.from_numpy(cm)\n",
    "\n",
    "    # get labels from DF via subject_id\n",
    "    y = torch.LongTensor(targets.loc[subj_id].values)\n",
    "    \n",
    "    data = Data(\n",
    "        edge_index=edge_index,\n",
    "        edge_attr=edge_attr,\n",
    "        x=x,\n",
    "        num_nodes=n,\n",
    "        y=y,\n",
    "        subj_id=subj_id,\n",
    "    ) \n",
    "    #data.validate()\n",
    "    return data"
   ]
  },
  {
   "cell_type": "markdown",
   "id": "d8978204",
   "metadata": {},
   "source": [
    "## form datalist"
   ]
  },
  {
   "cell_type": "code",
   "execution_count": 67,
   "id": "4a5486cb",
   "metadata": {},
   "outputs": [],
   "source": [
    "datalist = []\n",
    "missed_ids = set()\n",
    "for subj_id, cm in cobre_conn.items():\n",
    "    try:\n",
    "        # try to process a graph\n",
    "        datalist.append(prepare_pyg_data(cm, subj_id, cobre_target))\n",
    "    except KeyError:\n",
    "        missed_ids.add(subj_id)"
   ]
  },
  {
   "cell_type": "code",
   "execution_count": 69,
   "id": "e42b3166-52ba-4eea-9133-c7a3474708c9",
   "metadata": {},
   "outputs": [
    {
     "data": {
      "text/plain": [
       "tensor([0])"
      ]
     },
     "execution_count": 69,
     "metadata": {},
     "output_type": "execute_result"
    }
   ],
   "source": [
    "datalist[0].y"
   ]
  },
  {
   "cell_type": "code",
   "execution_count": 43,
   "id": "6d6c899f",
   "metadata": {},
   "outputs": [
    {
     "data": {
      "text/plain": [
       "(142, 21)"
      ]
     },
     "execution_count": 43,
     "metadata": {},
     "output_type": "execute_result"
    }
   ],
   "source": [
    "len(datalist), len(missed_ids)"
   ]
  },
  {
   "cell_type": "markdown",
   "id": "be2e3c2f",
   "metadata": {
    "tags": []
   },
   "source": [
    "## Prepare data"
   ]
  },
  {
   "cell_type": "markdown",
   "id": "6db945c4-587c-4c51-9946-dababe517d93",
   "metadata": {},
   "source": [
    "### Define dataset class"
   ]
  },
  {
   "cell_type": "code",
   "execution_count": 44,
   "id": "2de712fd-5bad-4282-b380-61055b1479dd",
   "metadata": {},
   "outputs": [],
   "source": [
    "class ListDataset(InMemoryDataset):\n",
    "    def __init__(self, root, data_list):\n",
    "        # first save \n",
    "        self.data_list = data_list\n",
    "        super().__init__(root=root)\n",
    "        self.data, self.slices = torch.load(self.processed_paths[0])\n",
    "    \n",
    "    @property\n",
    "    def processed_file_names(self):\n",
    "        return ['data.pt']\n",
    "\n",
    "    def process(self):\n",
    "        # https://pytorch-geometric.readthedocs.io/en/latest/tutorial/create_dataset.html\n",
    "        data, slices = self.collate(self.data_list)\n",
    "        torch.save((data, slices), self.processed_paths[0])"
   ]
  },
  {
   "cell_type": "markdown",
   "id": "52f8ab6b-1c9c-4118-a0d8-3bd7e8f6dc3b",
   "metadata": {},
   "source": [
    "### Set processed path and create a dataset instance"
   ]
  },
  {
   "cell_type": "code",
   "execution_count": 45,
   "id": "34c26e1e-b14e-436e-8b44-bfa98bd01eb8",
   "metadata": {},
   "outputs": [],
   "source": [
    "# dir for processed cobre\n",
    "cobre_aal_processed = cobre_path / 'cobre_aal_processed'"
   ]
  },
  {
   "cell_type": "code",
   "execution_count": 46,
   "id": "82cca816-cf81-4d3f-b7a7-90ca03a493a7",
   "metadata": {},
   "outputs": [
    {
     "data": {
      "text/plain": [
       "PosixPath('/home/gl/skoltech/imaging/data/fmri/cobre/cobre_aal_processed')"
      ]
     },
     "execution_count": 46,
     "metadata": {},
     "output_type": "execute_result"
    }
   ],
   "source": [
    "cobre_aal_processed"
   ]
  },
  {
   "cell_type": "markdown",
   "id": "b2d7d3d9-443e-4c82-ad96-8e38414c9e93",
   "metadata": {},
   "source": [
    "### Define train and test ListDatasets"
   ]
  },
  {
   "cell_type": "code",
   "execution_count": 47,
   "id": "4e54db4d",
   "metadata": {},
   "outputs": [],
   "source": [
    "#train_lst, test_lst = train_test_split(datalist, test_size=0.2, random_state=1380)"
   ]
  },
  {
   "cell_type": "code",
   "execution_count": 48,
   "id": "fefc0bc2-ab4f-4c22-9d8d-40eea5ffa42e",
   "metadata": {},
   "outputs": [],
   "source": [
    "# train_y = [g.y.item() for g in train_lst]\n",
    "# test_y = [g.y.item() for g in test_lst]"
   ]
  },
  {
   "cell_type": "code",
   "execution_count": 49,
   "id": "6ad1c97c-4629-4063-89c1-955bab80cadd",
   "metadata": {},
   "outputs": [],
   "source": [
    "cobre_ds = ListDataset(root=cobre_aal_processed, data_list=datalist)"
   ]
  },
  {
   "cell_type": "code",
   "execution_count": 50,
   "id": "87bcf193-693a-4621-979a-4b5a4a6a6ae6",
   "metadata": {},
   "outputs": [],
   "source": [
    "cobre_ds._indices"
   ]
  },
  {
   "cell_type": "code",
   "execution_count": 51,
   "id": "27e1883a-fb0e-4186-bdde-830e46c22672",
   "metadata": {},
   "outputs": [
    {
     "data": {
      "text/plain": [
       "142"
      ]
     },
     "execution_count": 51,
     "metadata": {},
     "output_type": "execute_result"
    }
   ],
   "source": [
    "len(cobre_ds)"
   ]
  },
  {
   "cell_type": "code",
   "execution_count": 52,
   "id": "87839ef7-fed7-47be-ae6e-7cb2af099c13",
   "metadata": {},
   "outputs": [
    {
     "data": {
      "text/plain": [
       "True"
      ]
     },
     "execution_count": 52,
     "metadata": {},
     "output_type": "execute_result"
    }
   ],
   "source": [
    "# check that data_list is intact\n",
    "cobre_ds.data_list == datalist"
   ]
  },
  {
   "cell_type": "code",
   "execution_count": 265,
   "id": "07b7dc25-4dd5-4b5f-bb7f-47c19dbf8f5c",
   "metadata": {},
   "outputs": [],
   "source": [
    "train_idx, test_idx = train_test_split(\n",
    "    np.arange(len(cobre_ds)),\n",
    "    test_size=0.2,\n",
    "    random_state=1380,\n",
    "    stratify=cobre_ds.data.y.numpy(),\n",
    ")"
   ]
  },
  {
   "cell_type": "code",
   "execution_count": null,
   "id": "b42052c7-d770-4c26-8c9a-379e7604c068",
   "metadata": {},
   "outputs": [],
   "source": []
  },
  {
   "cell_type": "code",
   "execution_count": 266,
   "id": "3c2b6b81-dbcf-4f85-aadf-497ce76c92c0",
   "metadata": {},
   "outputs": [
    {
     "data": {
      "text/plain": [
       "((113,), (29,))"
      ]
     },
     "execution_count": 266,
     "metadata": {},
     "output_type": "execute_result"
    }
   ],
   "source": [
    "train_idx.shape, test_idx.shape"
   ]
  },
  {
   "cell_type": "code",
   "execution_count": null,
   "id": "8d995380-581a-4441-b81a-8b3400377b3d",
   "metadata": {},
   "outputs": [],
   "source": []
  },
  {
   "cell_type": "code",
   "execution_count": 267,
   "id": "2a467945-5799-42ab-b392-c8b58ef4107a",
   "metadata": {},
   "outputs": [],
   "source": [
    "train_ds = cobre_ds[train_idx]\n",
    "test_ds = cobre_ds[test_idx]"
   ]
  },
  {
   "cell_type": "code",
   "execution_count": 268,
   "id": "85b69381-e6b5-4f57-8c54-93c110d73fcc",
   "metadata": {},
   "outputs": [
    {
     "data": {
      "text/plain": [
       "torch.Size([29])"
      ]
     },
     "execution_count": 268,
     "metadata": {},
     "output_type": "execute_result"
    }
   ],
   "source": [
    "test_ds.data.y[test_ds._indices].shape"
   ]
  },
  {
   "cell_type": "code",
   "execution_count": 269,
   "id": "dc361484-a883-4a34-a295-46a1f6a19578",
   "metadata": {},
   "outputs": [
    {
     "data": {
      "text/plain": [
       "torch.Size([113])"
      ]
     },
     "execution_count": 269,
     "metadata": {},
     "output_type": "execute_result"
    }
   ],
   "source": [
    "train_ds.data.y[train_ds._indices].shape"
   ]
  },
  {
   "cell_type": "code",
   "execution_count": 282,
   "id": "4ee1f71b-3b4d-4f76-859e-4c6a0517de64",
   "metadata": {},
   "outputs": [
    {
     "data": {
      "text/plain": [
       "142"
      ]
     },
     "execution_count": 282,
     "metadata": {},
     "output_type": "execute_result"
    }
   ],
   "source": [
    "len(train_ds.data.subj_id)"
   ]
  },
  {
   "cell_type": "markdown",
   "id": "e752c771-b9c1-4c0a-90fd-3450ddb3ecc4",
   "metadata": {},
   "source": [
    "#### extract subj_id from each subset"
   ]
  },
  {
   "cell_type": "code",
   "execution_count": 304,
   "id": "579e3817-41dd-4fce-8eca-b8577c4928d0",
   "metadata": {},
   "outputs": [],
   "source": [
    "def get_ids(ds):\n",
    "    return [g.subj_id for g in ds]"
   ]
  },
  {
   "cell_type": "code",
   "execution_count": 310,
   "id": "1042a0c8-0039-4bb3-8b57-5065d1d4d8d7",
   "metadata": {},
   "outputs": [],
   "source": [
    "train_ids = get_ids(train_ds)\n",
    "test_ids  = get_ids(test_ds)"
   ]
  },
  {
   "cell_type": "code",
   "execution_count": 311,
   "id": "02611447-7628-4f50-b775-4b3e5f4afd51",
   "metadata": {},
   "outputs": [
    {
     "data": {
      "text/plain": [
       "(113, 29)"
      ]
     },
     "execution_count": 311,
     "metadata": {},
     "output_type": "execute_result"
    }
   ],
   "source": [
    "len(train_ids), len(test_ids)"
   ]
  },
  {
   "cell_type": "code",
   "execution_count": 312,
   "id": "02e89b63-9b3a-48d0-a93e-3b75b2c2ce0e",
   "metadata": {},
   "outputs": [
    {
     "data": {
      "text/plain": [
       "(113, 29)"
      ]
     },
     "execution_count": 312,
     "metadata": {},
     "output_type": "execute_result"
    }
   ],
   "source": [
    "len(set(train_ids)), len(set(test_ids))"
   ]
  },
  {
   "cell_type": "code",
   "execution_count": 313,
   "id": "eacab0df-a3d1-4340-9c6e-f377aee10d0f",
   "metadata": {},
   "outputs": [
    {
     "data": {
      "text/plain": [
       "set()"
      ]
     },
     "execution_count": 313,
     "metadata": {},
     "output_type": "execute_result"
    }
   ],
   "source": [
    "set(train_ids) & set(test_ids)"
   ]
  },
  {
   "cell_type": "code",
   "execution_count": 58,
   "id": "18ad756e-3e27-4eb1-9db9-ed64472c2375",
   "metadata": {
    "tags": []
   },
   "outputs": [],
   "source": [
    "# pdb.runcall(\n",
    "#     bgat_conv1.forward, g.x, g.edge_index, g.edge_attr,\n",
    "# )"
   ]
  },
  {
   "cell_type": "markdown",
   "id": "b1e50b66-ce8b-4974-81c4-e7b3845e8964",
   "metadata": {},
   "source": [
    "------------------"
   ]
  },
  {
   "cell_type": "markdown",
   "id": "48640b5e-f668-4a1f-84ce-42bbcaf054c8",
   "metadata": {
    "tags": []
   },
   "source": [
    "## Run training "
   ]
  },
  {
   "cell_type": "markdown",
   "id": "09cd03f2-3dce-40b8-ba41-e262e73ed4ae",
   "metadata": {
    "tags": []
   },
   "source": [
    "### Define model and training config"
   ]
  },
  {
   "cell_type": "code",
   "execution_count": 178,
   "id": "c24ee12f-5925-4b09-bf93-d28411f1822c",
   "metadata": {},
   "outputs": [
    {
     "data": {
      "text/plain": [
       "GAT(\n",
       "  (activation): ReLU()\n",
       "  (convs): ModuleList(\n",
       "    (0): Sequential(\n",
       "      (0): MPGATConv(116, 4, heads=2)\n",
       "      (1): Linear(in_features=8, out_features=4, bias=True)\n",
       "      (2): LeakyReLU(negative_slope=0.2)\n",
       "      (3): BatchNorm1d(4, eps=1e-05, momentum=0.1, affine=True, track_running_stats=True)\n",
       "    )\n",
       "    (1): Sequential(\n",
       "      (0): MPGATConv(4, 4, heads=2)\n",
       "      (1): Linear(in_features=8, out_features=64, bias=True)\n",
       "      (2): LeakyReLU(negative_slope=0.2)\n",
       "      (3): Linear(in_features=64, out_features=8, bias=True)\n",
       "      (4): LeakyReLU(negative_slope=0.2)\n",
       "      (5): BatchNorm1d(8, eps=1e-05, momentum=0.1, affine=True, track_running_stats=True)\n",
       "    )\n",
       "  )\n",
       "  (fcn): Sequential(\n",
       "    (0): Linear(in_features=928, out_features=256, bias=True)\n",
       "    (1): LeakyReLU(negative_slope=0.2)\n",
       "    (2): Linear(in_features=256, out_features=32, bias=True)\n",
       "    (3): LeakyReLU(negative_slope=0.2)\n",
       "    (4): Linear(in_features=32, out_features=1, bias=True)\n",
       "  )\n",
       ")"
      ]
     },
     "execution_count": 178,
     "metadata": {},
     "output_type": "execute_result"
    }
   ],
   "source": [
    "model"
   ]
  },
  {
   "cell_type": "markdown",
   "id": "589c149b-cba5-41b7-bd70-14561c52b466",
   "metadata": {},
   "source": [
    "### define train function"
   ]
  },
  {
   "cell_type": "code",
   "execution_count": 179,
   "id": "0f7d0bc1-da39-4019-8aa9-a7792461bdf9",
   "metadata": {},
   "outputs": [],
   "source": [
    "def train_and_evaluate(model, train_loader, test_loader, optimizer, device, args):\n",
    "    # set model to train\n",
    "    model.train()\n",
    "    \n",
    "    # init list\n",
    "    accs, aucs, macros = [], [], []\n",
    "    epoch_num = args.epochs\n",
    "\n",
    "    for i in range(epoch_num):\n",
    "        loss_all = 0\n",
    "        for data in train_loader:\n",
    "            data = data.to(device)\n",
    "            x, edge_index, edge_attr, batch = data.x, data.edge_index, data.edge_attr, data.batch\n",
    "\n",
    "            #if args.mixup:\n",
    "            #    data, y_a, y_b, lam = mixup(data)\n",
    "            \n",
    "            # zero grads\n",
    "            optimizer.zero_grad()\n",
    "            \n",
    "            # forward\n",
    "            out = model(x, edge_index, edge_attr, batch )\n",
    "\n",
    "            if args.mixup:\n",
    "                loss = mixup_criterion(F.nll_loss, out, y_a, y_b, lam)\n",
    "            else:\n",
    "                loss = F.binary_cross_entropy_with_logits(out.squeeze(), data.y.float())\n",
    "\n",
    "            loss.backward()\n",
    "            optimizer.step()\n",
    "\n",
    "            loss_all += loss.item()\n",
    "        \n",
    "        epoch_loss = loss_all / len(train_loader.dataset)\n",
    "\n",
    "        train_micro, train_auc, train_macro = evaluate(model, device, train_loader)\n",
    "        logging.info(f'(Train) | Epoch={i:03d}, loss={epoch_loss:.4f}, '\n",
    "                     f'train_micro={(train_micro * 100):.2f}, train_macro={(train_macro * 100):.2f}, '\n",
    "                     f'train_auc={(train_auc * 100):.2f}')\n",
    "\n",
    "        if (i + 1) % args.test_interval == 0:\n",
    "            test_micro, test_auc, test_macro = evaluate(model, device, test_loader)\n",
    "            accs.append(test_micro)\n",
    "            aucs.append(test_auc)\n",
    "            macros.append(test_macro)\n",
    "            \n",
    "            text = f'(Train Epoch {i}), test_micro={(test_micro * 100):.2f}, ' \\\n",
    "                   f'test_macro={(test_macro * 100):.2f}, test_auc={(test_auc * 100):.2f}\\n'\n",
    "            logging.info(text)\n",
    "\n",
    "        if args.enable_nni:\n",
    "            nni.report_intermediate_result(train_auc)\n",
    "\n",
    "    accs, aucs, macros = np.sort(np.array(accs)), np.sort(np.array(aucs)), np.sort(np.array(macros))\n",
    "    \n",
    "    return accs.mean(), aucs.mean(), macros.mean()"
   ]
  },
  {
   "cell_type": "code",
   "execution_count": 180,
   "id": "d5bce393-70d8-45db-85a2-d1d3f41e1821",
   "metadata": {},
   "outputs": [],
   "source": [
    "@torch.no_grad()\n",
    "def evaluate(model, device, loader, thr=0.5,):\n",
    "    # compute metrics on valid data\n",
    "    \n",
    "    model.eval()\n",
    "    preds, trues, preds_prob = [], [], []\n",
    "\n",
    "    for data in loader:\n",
    "        data = data.to(device)\n",
    "        x, edge_index, edge_attr, batch = data.x, data.edge_index, data.edge_attr, data.batch\n",
    "        c = model(x, edge_index, edge_attr, batch)\n",
    "        \n",
    "        # label preds\n",
    "        preds += (torch.sigmoid(c) > thr).long().detach().cpu().tolist()\n",
    "        preds_prob += (torch.sigmoid(c)).detach().cpu().tolist()\n",
    "        trues += data.y.detach().long().cpu().tolist()\n",
    "\n",
    "    train_auc = metrics.roc_auc_score(trues, preds_prob)\n",
    "\n",
    "    if np.isnan(train_auc):\n",
    "        train_auc = 0.5\n",
    "        \n",
    "    train_micro = metrics.f1_score(trues, preds, average='micro')\n",
    "    train_macro = metrics.f1_score(trues, preds, average='macro', labels=[0, 1])\n",
    "\n",
    "    return train_micro, train_auc, train_macro\n"
   ]
  },
  {
   "cell_type": "markdown",
   "id": "bddb56d4-2f13-4f7b-8837-fe6475e18918",
   "metadata": {},
   "source": [
    "### Run cross-validation"
   ]
  },
  {
   "cell_type": "code",
   "execution_count": 211,
   "id": "582fc6f6-aaec-428e-9e68-614982447df3",
   "metadata": {},
   "outputs": [],
   "source": [
    "cv = StratifiedKFold(n_splits=5, shuffle=True, random_state=1380)"
   ]
  },
  {
   "cell_type": "code",
   "execution_count": 254,
   "id": "3c558c65-80fb-4c71-9102-fba7bd08933d",
   "metadata": {},
   "outputs": [],
   "source": [
    "config = argparse.Namespace(\n",
    "    # GAT params\n",
    "    pooling='concat',\n",
    "    hidden_dim=8,\n",
    "    num_heads=4,\n",
    "    n_GNN_layers=2,\n",
    "    edge_emb_dim=1,\n",
    "    gat_mp_type='node_concate',\n",
    "    dropout=0.1,\n",
    "    # training\n",
    "    mixup=False,\n",
    "    enable_nni=False,\n",
    "    test_interval=1,\n",
    "    epochs=20,\n",
    "    lr=0.001,\n",
    "    weight_decay=1e-4,\n",
    ")"
   ]
  },
  {
   "cell_type": "code",
   "execution_count": 255,
   "id": "32c1d4d1-2109-471f-8cd5-4b053b37a217",
   "metadata": {},
   "outputs": [
    {
     "data": {
      "text/plain": [
       "GAT(\n",
       "  (activation): ReLU()\n",
       "  (convs): ModuleList(\n",
       "    (0): Sequential(\n",
       "      (0): MPGATConv(116, 8, heads=4)\n",
       "      (1): Linear(in_features=32, out_features=8, bias=True)\n",
       "      (2): LeakyReLU(negative_slope=0.2)\n",
       "      (3): BatchNorm1d(8, eps=1e-05, momentum=0.1, affine=True, track_running_stats=True)\n",
       "    )\n",
       "    (1): Sequential(\n",
       "      (0): MPGATConv(8, 8, heads=4)\n",
       "      (1): Linear(in_features=32, out_features=64, bias=True)\n",
       "      (2): LeakyReLU(negative_slope=0.2)\n",
       "      (3): Linear(in_features=64, out_features=8, bias=True)\n",
       "      (4): LeakyReLU(negative_slope=0.2)\n",
       "      (5): BatchNorm1d(8, eps=1e-05, momentum=0.1, affine=True, track_running_stats=True)\n",
       "    )\n",
       "  )\n",
       "  (fcn): Sequential(\n",
       "    (0): Linear(in_features=928, out_features=256, bias=True)\n",
       "    (1): LeakyReLU(negative_slope=0.2)\n",
       "    (2): Linear(in_features=256, out_features=32, bias=True)\n",
       "    (3): LeakyReLU(negative_slope=0.2)\n",
       "    (4): Linear(in_features=32, out_features=1, bias=True)\n",
       "  )\n",
       ")"
      ]
     },
     "execution_count": 255,
     "metadata": {},
     "output_type": "execute_result"
    }
   ],
   "source": [
    "model = bgb_models.gat.GAT(\n",
    "    input_dim=116,\n",
    "    args=config,\n",
    "    num_nodes=116,\n",
    "    num_classes=1,\n",
    ")\n",
    "model\n"
   ]
  },
  {
   "cell_type": "code",
   "execution_count": 256,
   "id": "e0cf5a0f-e637-4d52-aa71-5069a25a7a55",
   "metadata": {},
   "outputs": [],
   "source": [
    "del model"
   ]
  },
  {
   "cell_type": "code",
   "execution_count": 294,
   "id": "1287e24a-4fcd-468d-816b-c105573ae64d",
   "metadata": {},
   "outputs": [],
   "source": [
    "from collections import defaultdict"
   ]
  },
  {
   "cell_type": "code",
   "execution_count": 415,
   "id": "1a9affcd-9138-486e-b3cc-70447530554b",
   "metadata": {},
   "outputs": [
    {
     "name": "stderr",
     "output_type": "stream",
     "text": [
      "INFO:root:Fold 0\n",
      "INFO:root:Fold 1\n",
      "INFO:root:Fold 2\n",
      "INFO:root:Fold 3\n",
      "INFO:root:Fold 4\n"
     ]
    },
    {
     "name": "stdout",
     "output_type": "stream",
     "text": [
      "CPU times: user 9.14 ms, sys: 0 ns, total: 9.14 ms\n",
      "Wall time: 8.51 ms\n"
     ]
    }
   ],
   "source": [
    "%%time\n",
    "device = 'cpu'\n",
    "\n",
    "accs, aucs, macros = [], [], []\n",
    "models = []\n",
    "\n",
    "fold_ids = {}\n",
    "for fold_i, (train_idx, val_idx) in enumerate(cv.split(np.arange(len(train_ds)), y=train_ds.data.y[train_ds._indices])):\n",
    "    logging.info(f'Fold {fold_i}')\n",
    "    \n",
    "    train_subset = train_ds[train_idx]\n",
    "    val_subset = train_ds[val_idx]\n",
    "    fold_ids[fold_i] = {'train': get_ids(train_subset), 'valid': get_ids(val_subset)}\n",
    "                             \n",
    "#     # split train into train and valid, create loaders\n",
    "#     train_loader = DataLoader(dataset=train_ds[train_idx], batch_size=8, shuffle=True)\n",
    "#     val_loader = DataLoader(dataset=train_ds[val_idx], batch_size=8, shuffle=False)\n",
    "    \n",
    "#     # create model instance\n",
    "#     model = bgb_models.gat.GAT(\n",
    "#         input_dim=116,\n",
    "#         args=config,\n",
    "#         num_nodes=116,\n",
    "#         num_classes=1,\n",
    "#     )\n",
    "#     # set optimizer\n",
    "#     optimizer = torch.optim.AdamW(model.parameters(), lr=config.lr, weight_decay=config.weight_decay)\n",
    "\n",
    "#     # train and eval\n",
    "#     test_micro, test_auc, test_macro = train_and_evaluate(\n",
    "#         model,\n",
    "#         train_loader,\n",
    "#         val_loader,\n",
    "#         optimizer,\n",
    "#         device=device,\n",
    "#         args=config,\n",
    "#     )\n",
    "\n",
    "#     # evaluate again\n",
    "#     test_micro, test_auc, test_macro = evaluate(model, device, val_loader)\n",
    "    \n",
    "#     # print valid metrics\n",
    "#     logging.info(f'(Initial Performance Last Epoch) | test_micro={(test_micro * 100):.2f}, '\n",
    "#                  f'test_macro={(test_macro * 100):.2f}, test_auc={(test_auc * 100):.2f}')\n",
    "\n",
    "#     # store metrics for the current fold\n",
    "#     accs.append(test_micro)\n",
    "#     aucs.append(test_auc)\n",
    "#     macros.append(test_macro)\n",
    "#     models.append(model)\n",
    "#     del model"
   ]
  },
  {
   "cell_type": "code",
   "execution_count": 416,
   "id": "4bc8dcf5-acbd-4a1c-aa95-76b25be7489d",
   "metadata": {},
   "outputs": [],
   "source": [
    "fold_ids['test'] = test_ids"
   ]
  },
  {
   "cell_type": "code",
   "execution_count": 418,
   "id": "84b5f7b0-8b70-4da5-bd36-b52282ffc03f",
   "metadata": {},
   "outputs": [],
   "source": [
    "import json"
   ]
  },
  {
   "cell_type": "code",
   "execution_count": 419,
   "id": "897d282b-fb48-40f6-b66c-3fc6e59b8dbc",
   "metadata": {},
   "outputs": [],
   "source": [
    "with open(cobre_aal_processed / 'cobre_5_fold_split_w_test.json', 'w') as f:\n",
    "    json.dump(fold_ids, f)"
   ]
  },
  {
   "cell_type": "code",
   "execution_count": 420,
   "id": "3769c66e-286c-4325-afa9-14f553500529",
   "metadata": {},
   "outputs": [],
   "source": [
    "with open(cobre_aal_processed / 'cobre_5_fold_split_w_test.json', 'r') as f:\n",
    "    _x = json.load(f)"
   ]
  },
  {
   "cell_type": "code",
   "execution_count": 428,
   "id": "819528a6-b8e5-4948-8980-43be2c3c7534",
   "metadata": {},
   "outputs": [
    {
     "data": {
      "text/plain": [
       "(23, 1)"
      ]
     },
     "execution_count": 428,
     "metadata": {},
     "output_type": "execute_result"
    }
   ],
   "source": [
    "cobre_target.loc[_x['0']['valid']].shape"
   ]
  },
  {
   "cell_type": "code",
   "execution_count": 263,
   "id": "0ebb33f0-969e-4aa0-9edf-ab5f1acd6fe5",
   "metadata": {},
   "outputs": [
    {
     "data": {
      "text/plain": [
       "(0.7355731225296444, 0.12122472295151034)"
      ]
     },
     "execution_count": 263,
     "metadata": {},
     "output_type": "execute_result"
    }
   ],
   "source": [
    "np.mean(accs), np.std(accs)"
   ]
  },
  {
   "cell_type": "code",
   "execution_count": 259,
   "id": "e87ed261-9574-4e41-8edd-2b68b4f6db42",
   "metadata": {},
   "outputs": [
    {
     "data": {
      "text/plain": [
       "([0.8484848484848485,\n",
       "  0.5984848484848485,\n",
       "  0.8939393939393939,\n",
       "  0.7833333333333333,\n",
       "  0.8916666666666666],\n",
       " 0.8031818181818181,\n",
       " 0.10992150133374144)"
      ]
     },
     "execution_count": 259,
     "metadata": {},
     "output_type": "execute_result"
    }
   ],
   "source": [
    "aucs, np.mean(aucs), np.std(aucs)"
   ]
  },
  {
   "cell_type": "code",
   "execution_count": 260,
   "id": "cb9dc324-5994-4cb9-9a6f-53287a761dd4",
   "metadata": {},
   "outputs": [
    {
     "data": {
      "text/plain": [
       "[0.6956521739130435,\n",
       " 0.518095238095238,\n",
       " 0.8695652173913043,\n",
       " 0.7603485838779955,\n",
       " 0.8181818181818182]"
      ]
     },
     "execution_count": 260,
     "metadata": {},
     "output_type": "execute_result"
    }
   ],
   "source": [
    "macros"
   ]
  },
  {
   "cell_type": "code",
   "execution_count": 412,
   "id": "7125ba19-2f70-4fba-989c-63288e9a6fc5",
   "metadata": {},
   "outputs": [
    {
     "data": {
      "text/plain": [
       "0    ['A00015518', 'A00014590', 'A00022810', 'A0003...\n",
       "1    ['A00015518', 'A00014590', 'A00022810', 'A0003...\n",
       "2    ['A00015518', 'A00014590', 'A00022810', 'A0003...\n",
       "3    ['A00015518', 'A00037665', 'A00003150', 'A0001...\n",
       "4    ['A00014590', 'A00022810', 'A00003150', 'A0001...\n",
       "5                                                   []\n",
       "Name: train, dtype: object"
      ]
     },
     "execution_count": 412,
     "metadata": {},
     "output_type": "execute_result"
    }
   ],
   "source": [
    "ids_df2['train'].fillna('[]')"
   ]
  },
  {
   "cell_type": "code",
   "execution_count": 413,
   "id": "4bf97aab-9524-4f3d-aed6-8d2721e57e5e",
   "metadata": {},
   "outputs": [
    {
     "data": {
      "text/plain": [
       "[]"
      ]
     },
     "execution_count": 413,
     "metadata": {},
     "output_type": "execute_result"
    }
   ],
   "source": [
    "eval('[]')"
   ]
  },
  {
   "cell_type": "code",
   "execution_count": 325,
   "id": "41366303-7cb5-4dd1-a117-be3400aee85e",
   "metadata": {},
   "outputs": [],
   "source": [
    "#set(train_ids)"
   ]
  },
  {
   "cell_type": "code",
   "execution_count": null,
   "id": "babd53e3-e45b-45d5-85e6-252d5ae05c7d",
   "metadata": {},
   "outputs": [],
   "source": []
  },
  {
   "cell_type": "code",
   "execution_count": 414,
   "id": "f6a998bf-9b2c-4d2a-bb5e-d393014b152d",
   "metadata": {},
   "outputs": [
    {
     "data": {
      "text/plain": [
       "0    [A00015518, A00014590, A00022810, A00037665, A...\n",
       "1    [A00015518, A00014590, A00022810, A00037665, A...\n",
       "2    [A00015518, A00014590, A00022810, A00037665, A...\n",
       "3    [A00015518, A00037665, A00003150, A00014830, A...\n",
       "4    [A00014590, A00022810, A00003150, A00014830, A...\n",
       "5                                                   []\n",
       "Name: train, dtype: object"
      ]
     },
     "execution_count": 414,
     "metadata": {},
     "output_type": "execute_result"
    }
   ],
   "source": [
    "ids_df2['train'].fillna('[]').apply(eval)"
   ]
  },
  {
   "cell_type": "markdown",
   "id": "ba429ad2-8112-43b3-b3dd-57b11cb0c063",
   "metadata": {},
   "source": [
    "----------"
   ]
  },
  {
   "cell_type": "markdown",
   "id": "0bcf7f1f-9be8-4089-8ce0-3b5abc53d4f1",
   "metadata": {},
   "source": [
    "----------"
   ]
  },
  {
   "cell_type": "markdown",
   "id": "d33348d4-8ba9-40ef-bbd8-4db1e665fa2d",
   "metadata": {},
   "source": [
    "----------"
   ]
  },
  {
   "cell_type": "markdown",
   "id": "68df20c6-571f-4a63-b34c-72e1ccfc7803",
   "metadata": {},
   "source": [
    "----------"
   ]
  },
  {
   "cell_type": "markdown",
   "id": "78475116-247e-4e68-81af-92677e5bd773",
   "metadata": {},
   "source": [
    "----------"
   ]
  },
  {
   "cell_type": "markdown",
   "id": "f74fdd12-0bc7-4ace-9c68-5833420f1513",
   "metadata": {},
   "source": [
    "----------"
   ]
  },
  {
   "cell_type": "markdown",
   "id": "083da87f-a968-4092-b4e7-6345820802c2",
   "metadata": {},
   "source": [
    "----------"
   ]
  },
  {
   "cell_type": "markdown",
   "id": "0d8ac999",
   "metadata": {
    "tags": []
   },
   "source": [
    "## Visualize via networkx"
   ]
  },
  {
   "cell_type": "code",
   "execution_count": 67,
   "id": "5bb9f066",
   "metadata": {},
   "outputs": [],
   "source": [
    "g = datalist[14]"
   ]
  },
  {
   "cell_type": "code",
   "execution_count": 68,
   "id": "0e13787c",
   "metadata": {},
   "outputs": [
    {
     "data": {
      "text/plain": [
       "Data(x=[116, 116], edge_index=[2, 13456], y=[1], edge_weight=[13456], num_nodes=116, subj_id='A00031764')"
      ]
     },
     "execution_count": 68,
     "metadata": {},
     "output_type": "execute_result"
    }
   ],
   "source": [
    "g"
   ]
  },
  {
   "cell_type": "code",
   "execution_count": 79,
   "id": "5888362b",
   "metadata": {},
   "outputs": [],
   "source": [
    "g_nx = pyg.utils.to_networkx(g, to_undirected=False)"
   ]
  },
  {
   "cell_type": "code",
   "execution_count": 80,
   "id": "f829b0d8",
   "metadata": {},
   "outputs": [
    {
     "data": {
      "text/plain": [
       "(116, 13456)"
      ]
     },
     "execution_count": 80,
     "metadata": {},
     "output_type": "execute_result"
    }
   ],
   "source": [
    "len(g_nx.nodes), len(g_nx.edges),"
   ]
  },
  {
   "cell_type": "code",
   "execution_count": 81,
   "id": "36d59629",
   "metadata": {
    "scrolled": true
   },
   "outputs": [
    {
     "data": {
      "text/plain": [
       "(116, 13456)"
      ]
     },
     "execution_count": 81,
     "metadata": {},
     "output_type": "execute_result"
    }
   ],
   "source": [
    "len(g_nx.nodes), len(g_nx.edges)"
   ]
  },
  {
   "cell_type": "code",
   "execution_count": 83,
   "id": "86bb4040",
   "metadata": {},
   "outputs": [],
   "source": [
    "#nx.cycle_basis(g_nx)"
   ]
  },
  {
   "cell_type": "code",
   "execution_count": 84,
   "id": "8e4bf741",
   "metadata": {},
   "outputs": [
    {
     "ename": "TypeError",
     "evalue": "'_AxesStack' object is not callable",
     "output_type": "error",
     "traceback": [
      "\u001b[0;31m---------------------------------------------------------------------------\u001b[0m",
      "\u001b[0;31mTypeError\u001b[0m                                 Traceback (most recent call last)",
      "Cell \u001b[0;32mIn[84], line 1\u001b[0m\n\u001b[0;32m----> 1\u001b[0m \u001b[43mnx\u001b[49m\u001b[38;5;241;43m.\u001b[39;49m\u001b[43mdraw_circular\u001b[49m\u001b[43m(\u001b[49m\u001b[43mg_nx\u001b[49m\u001b[43m,\u001b[49m\u001b[43m \u001b[49m\u001b[43mwith_labels\u001b[49m\u001b[38;5;241;43m=\u001b[39;49m\u001b[38;5;28;43;01mTrue\u001b[39;49;00m\u001b[43m)\u001b[49m\n",
      "File \u001b[0;32m~/miniconda3/envs/neurograph/lib/python3.10/site-packages/networkx/drawing/nx_pylab.py:1179\u001b[0m, in \u001b[0;36mdraw_circular\u001b[0;34m(G, **kwargs)\u001b[0m\n\u001b[1;32m   1166\u001b[0m \u001b[38;5;28;01mdef\u001b[39;00m \u001b[38;5;21mdraw_circular\u001b[39m(G, \u001b[38;5;241m*\u001b[39m\u001b[38;5;241m*\u001b[39mkwargs):\n\u001b[1;32m   1167\u001b[0m \u001b[38;5;250m    \u001b[39m\u001b[38;5;124;03m\"\"\"Draw the graph G with a circular layout.\u001b[39;00m\n\u001b[1;32m   1168\u001b[0m \n\u001b[1;32m   1169\u001b[0m \u001b[38;5;124;03m    Parameters\u001b[39;00m\n\u001b[0;32m   (...)\u001b[0m\n\u001b[1;32m   1177\u001b[0m \u001b[38;5;124;03m        function.\u001b[39;00m\n\u001b[1;32m   1178\u001b[0m \u001b[38;5;124;03m    \"\"\"\u001b[39;00m\n\u001b[0;32m-> 1179\u001b[0m     \u001b[43mdraw\u001b[49m\u001b[43m(\u001b[49m\u001b[43mG\u001b[49m\u001b[43m,\u001b[49m\u001b[43m \u001b[49m\u001b[43mcircular_layout\u001b[49m\u001b[43m(\u001b[49m\u001b[43mG\u001b[49m\u001b[43m)\u001b[49m\u001b[43m,\u001b[49m\u001b[43m \u001b[49m\u001b[38;5;241;43m*\u001b[39;49m\u001b[38;5;241;43m*\u001b[39;49m\u001b[43mkwargs\u001b[49m\u001b[43m)\u001b[49m\n",
      "File \u001b[0;32m~/miniconda3/envs/neurograph/lib/python3.10/site-packages/networkx/drawing/nx_pylab.py:113\u001b[0m, in \u001b[0;36mdraw\u001b[0;34m(G, pos, ax, **kwds)\u001b[0m\n\u001b[1;32m    111\u001b[0m cf\u001b[38;5;241m.\u001b[39mset_facecolor(\u001b[38;5;124m\"\u001b[39m\u001b[38;5;124mw\u001b[39m\u001b[38;5;124m\"\u001b[39m)\n\u001b[1;32m    112\u001b[0m \u001b[38;5;28;01mif\u001b[39;00m ax \u001b[38;5;129;01mis\u001b[39;00m \u001b[38;5;28;01mNone\u001b[39;00m:\n\u001b[0;32m--> 113\u001b[0m     \u001b[38;5;28;01mif\u001b[39;00m \u001b[43mcf\u001b[49m\u001b[38;5;241;43m.\u001b[39;49m\u001b[43m_axstack\u001b[49m\u001b[43m(\u001b[49m\u001b[43m)\u001b[49m \u001b[38;5;129;01mis\u001b[39;00m \u001b[38;5;28;01mNone\u001b[39;00m:\n\u001b[1;32m    114\u001b[0m         ax \u001b[38;5;241m=\u001b[39m cf\u001b[38;5;241m.\u001b[39madd_axes((\u001b[38;5;241m0\u001b[39m, \u001b[38;5;241m0\u001b[39m, \u001b[38;5;241m1\u001b[39m, \u001b[38;5;241m1\u001b[39m))\n\u001b[1;32m    115\u001b[0m     \u001b[38;5;28;01melse\u001b[39;00m:\n",
      "\u001b[0;31mTypeError\u001b[0m: '_AxesStack' object is not callable"
     ]
    },
    {
     "data": {
      "text/plain": [
       "<Figure size 640x480 with 0 Axes>"
      ]
     },
     "metadata": {},
     "output_type": "display_data"
    }
   ],
   "source": [
    "nx.draw_circular(g_nx, with_labels=True)"
   ]
  },
  {
   "cell_type": "markdown",
   "id": "53ad0862",
   "metadata": {},
   "source": [
    "### edge message passing"
   ]
  },
  {
   "cell_type": "code",
   "execution_count": 876,
   "id": "1d4aac26",
   "metadata": {},
   "outputs": [],
   "source": [
    "H = torch.tensor(\n",
    "    [\n",
    "        [1., 0.],\n",
    "        [2., 0.],\n",
    "        [3., 0.],\n",
    "    ],\n",
    ")"
   ]
  },
  {
   "cell_type": "code",
   "execution_count": 877,
   "id": "b6432111",
   "metadata": {},
   "outputs": [],
   "source": [
    "W = torch.tensor(\n",
    "    [\n",
    "        [0,  5., 7.],\n",
    "        [5., 0,  11],\n",
    "        [7,  11, 0,]\n",
    "    ],\n",
    ")"
   ]
  },
  {
   "cell_type": "code",
   "execution_count": 882,
   "id": "5baee83f",
   "metadata": {},
   "outputs": [],
   "source": [
    "M = torch.einsum('jk, ij -> ijk', [H, W])"
   ]
  },
  {
   "cell_type": "code",
   "execution_count": null,
   "id": "bb62c2ba",
   "metadata": {},
   "outputs": [],
   "source": []
  },
  {
   "cell_type": "code",
   "execution_count": null,
   "id": "597338de",
   "metadata": {},
   "outputs": [],
   "source": []
  }
 ],
 "metadata": {
  "kernelspec": {
   "display_name": "neurograph",
   "language": "python",
   "name": "neurograph"
  },
  "language_info": {
   "codemirror_mode": {
    "name": "ipython",
    "version": 3
   },
   "file_extension": ".py",
   "mimetype": "text/x-python",
   "name": "python",
   "nbconvert_exporter": "python",
   "pygments_lexer": "ipython3",
   "version": "3.10.8"
  }
 },
 "nbformat": 4,
 "nbformat_minor": 5
}
